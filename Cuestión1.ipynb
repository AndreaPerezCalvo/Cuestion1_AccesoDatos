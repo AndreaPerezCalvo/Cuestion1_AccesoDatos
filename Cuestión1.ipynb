{
 "cells": [
  {
   "cell_type": "markdown",
   "id": "21dab7f0",
   "metadata": {},
   "source": [
    "# Acceso a datos en Python\n",
    "\n",
    "Vamos a crear la base de datos tienda.db en SQLite, para ello:\n",
    "\n",
    "1. Comenzaremos por importar la librería de sqlite3.\n",
    "2. Mediante el método connect() realizaremos una conexión con la base de datos almacenadaen el archivo tienda.db en el directorio actual. Si el archivo no existe, se creará uno nuevo.\n",
    "3. Con el cursor ejecutaremos declaraciones para comunicarnos con la base de datos.\n",
    "4. Mediante el primer método execute, borraremos la tabla clientes si ya existe, esto lo vamos a realizar para evitar errores.\n",
    "5. El segundo método crea la tabla clientes con 4 columnas: id, nombre, apellido y teléfono.\n",
    "6. Con close() cerramos la conexión con la base de datos."
   ]
  },
  {
   "cell_type": "code",
   "execution_count": 22,
   "id": "b4761be7",
   "metadata": {},
   "outputs": [],
   "source": [
    "import sqlite3\n",
    "\n",
    "conn = sqlite3.connect('tienda.db')\n",
    "cur = conn.cursor()\n",
    "\n",
    "cur.execute('DROP TABLE IF EXISTS clientes')\n",
    "cur.execute('CREATE TABLE clientes (id INTEGER, nombre TEXT, apellido TEXT, telefono INTEGER)')\n",
    "\n",
    "conn.close()"
   ]
  },
  {
   "cell_type": "markdown",
   "id": "c77278d6",
   "metadata": {},
   "source": [
    "7. Vamos a introducir los datos de los clientes en la tabla, para ello utilizaremos un INSERT INTO.\n",
    "8. Mediante commit() guardamos los datos."
   ]
  },
  {
   "cell_type": "code",
   "execution_count": 23,
   "id": "977c0682",
   "metadata": {},
   "outputs": [],
   "source": [
    "import sqlite3\n",
    "\n",
    "conn = sqlite3.connect('tienda.db')\n",
    "cur = conn.cursor()\n",
    "\n",
    "cur.execute('INSERT INTO clientes (id, nombre, apellido, telefono) VALUES (?, ?, ?, ?)',\n",
    "    (1, 'Pablo', 'García', 123456789))\n",
    "cur.execute('INSERT INTO clientes (id, nombre, apellido, telefono) VALUES (?, ?, ?, ?)',\n",
    "    (2, 'Gema', 'Lorca', 987654321))\n",
    "cur.execute('INSERT INTO clientes (id, nombre, apellido, telefono) VALUES (?, ?, ?, ?)',\n",
    "    (3, 'David', 'Martinez', 214365879))\n",
    "cur.execute('INSERT INTO clientes (id, nombre, apellido, telefono) VALUES (?, ?, ?, ?)',\n",
    "    (4, 'Luna', 'Pérez', 896745231))\n",
    " \n",
    "conn.commit()\n",
    "\n"
   ]
  },
  {
   "cell_type": "markdown",
   "id": "89e27243",
   "metadata": {},
   "source": [
    "9. Vamos a realizar una secuencia Select para leer los datos de la tabla clientes."
   ]
  },
  {
   "cell_type": "code",
   "execution_count": 24,
   "id": "e5387000",
   "metadata": {},
   "outputs": [
    {
     "name": "stdout",
     "output_type": "stream",
     "text": [
      "clientes:\n",
      "(1, 'Pablo', 'García', 123456789)\n",
      "(2, 'Gema', 'Lorca', 987654321)\n",
      "(3, 'David', 'Martinez', 214365879)\n",
      "(4, 'Luna', 'Pérez', 896745231)\n"
     ]
    }
   ],
   "source": [
    "import sqlite3\n",
    "\n",
    "conn = sqlite3.connect('tienda.db')\n",
    "cur = conn.cursor()\n",
    "\n",
    "print('clientes:')\n",
    "cur.execute('SELECT * FROM clientes')\n",
    "for fila in cur:\n",
    "     print(fila)\n"
   ]
  },
  {
   "cell_type": "markdown",
   "id": "b2a337c1",
   "metadata": {},
   "source": [
    "10. Ahora borraremos el cliente cuyo id es igual a 3."
   ]
  },
  {
   "cell_type": "code",
   "execution_count": 25,
   "id": "c3b8f718",
   "metadata": {},
   "outputs": [],
   "source": [
    "import sqlite3\n",
    "\n",
    "conn = sqlite3.connect('tienda.db')\n",
    "cur = conn.cursor()\n",
    "\n",
    "cur.execute('DELETE FROM clientes WHERE id = 3')\n",
    "conn.commit()\n",
    "\n",
    "cur.close()"
   ]
  },
  {
   "cell_type": "markdown",
   "id": "88797425",
   "metadata": {},
   "source": [
    "11. Volvemos a realizar el Select para comprobar que los datos se han borrado correctamente."
   ]
  },
  {
   "cell_type": "code",
   "execution_count": 26,
   "id": "d96daaba",
   "metadata": {},
   "outputs": [
    {
     "name": "stdout",
     "output_type": "stream",
     "text": [
      "clientes:\n",
      "(1, 'Pablo', 'García', 123456789)\n",
      "(2, 'Gema', 'Lorca', 987654321)\n",
      "(4, 'Luna', 'Pérez', 896745231)\n"
     ]
    }
   ],
   "source": [
    "import sqlite3\n",
    "\n",
    "conn = sqlite3.connect('tienda.db')\n",
    "cur = conn.cursor()\n",
    "\n",
    "print('clientes:')\n",
    "cur.execute('SELECT * FROM clientes')\n",
    "for fila in cur:\n",
    "     print(fila)"
   ]
  },
  {
   "cell_type": "markdown",
   "id": "2e71244f",
   "metadata": {},
   "source": [
    "12. Mediante el método Update cambiaremos el teléfono de uno de los clientes, en este caso cuyo id es 1."
   ]
  },
  {
   "cell_type": "code",
   "execution_count": 27,
   "id": "1454f154",
   "metadata": {},
   "outputs": [],
   "source": [
    "import sqlite3\n",
    "\n",
    "conn = sqlite3.connect('tienda.db')\n",
    "cur = conn.cursor()\n",
    "\n",
    "cur.execute('UPDATE clientes SET telefono = 654321987 WHERE id = 1')\n",
    "conn.commit()\n",
    "\n",
    "cur.close()\n"
   ]
  },
  {
   "cell_type": "markdown",
   "id": "dc34ea56",
   "metadata": {},
   "source": [
    "13. Y por último realizamos otro Select para comprobar que los datos se han cambiado correctamente."
   ]
  },
  {
   "cell_type": "code",
   "execution_count": 28,
   "id": "fb01fad9",
   "metadata": {},
   "outputs": [
    {
     "name": "stdout",
     "output_type": "stream",
     "text": [
      "clientes:\n",
      "(1, 'Pablo', 'García', 654321987)\n",
      "(2, 'Gema', 'Lorca', 987654321)\n",
      "(4, 'Luna', 'Pérez', 896745231)\n"
     ]
    }
   ],
   "source": [
    "import sqlite3\n",
    "\n",
    "conn = sqlite3.connect('tienda.db')\n",
    "cur = conn.cursor()\n",
    "\n",
    "print('clientes:')\n",
    "cur.execute('SELECT * FROM clientes')\n",
    "for fila in cur:\n",
    "     print(fila)"
   ]
  }
 ],
 "metadata": {
  "kernelspec": {
   "display_name": "Python 3 (ipykernel)",
   "language": "python",
   "name": "python3"
  },
  "language_info": {
   "codemirror_mode": {
    "name": "ipython",
    "version": 3
   },
   "file_extension": ".py",
   "mimetype": "text/x-python",
   "name": "python",
   "nbconvert_exporter": "python",
   "pygments_lexer": "ipython3",
   "version": "3.9.7"
  }
 },
 "nbformat": 4,
 "nbformat_minor": 5
}
